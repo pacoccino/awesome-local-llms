{
 "cells": [
  {
   "cell_type": "code",
   "execution_count": 1,
   "metadata": {},
   "outputs": [],
   "source": [
    "import re\n",
    "\n",
    "import pandas as pd\n",
    "from tabulate import tabulate"
   ]
  },
  {
   "cell_type": "code",
   "execution_count": 2,
   "metadata": {},
   "outputs": [],
   "source": [
    "data_path = \"outputs/2024-03-12_1817_repo_stats.csv\"\n",
    "df_raw = pd.read_csv(data_path)"
   ]
  },
  {
   "cell_type": "code",
   "execution_count": 3,
   "metadata": {},
   "outputs": [
    {
     "data": {
      "text/html": [
       "<div>\n",
       "<style scoped>\n",
       "    .dataframe tbody tr th:only-of-type {\n",
       "        vertical-align: middle;\n",
       "    }\n",
       "\n",
       "    .dataframe tbody tr th {\n",
       "        vertical-align: top;\n",
       "    }\n",
       "\n",
       "    .dataframe thead th {\n",
       "        text-align: right;\n",
       "    }\n",
       "</style>\n",
       "<table border=\"1\" class=\"dataframe\">\n",
       "  <thead>\n",
       "    <tr style=\"text-align: right;\">\n",
       "      <th></th>\n",
       "      <th>Owner</th>\n",
       "      <th>Repository Name</th>\n",
       "      <th>Stars</th>\n",
       "      <th>Forks</th>\n",
       "      <th>Contributors</th>\n",
       "      <th>Issues</th>\n",
       "      <th>Releases</th>\n",
       "      <th>Time Since Last Commit</th>\n",
       "      <th>Watchers</th>\n",
       "      <th>License</th>\n",
       "      <th>About</th>\n",
       "      <th>Languages</th>\n",
       "      <th>URL</th>\n",
       "    </tr>\n",
       "  </thead>\n",
       "  <tbody>\n",
       "    <tr>\n",
       "      <th>0</th>\n",
       "      <td>huggingface</td>\n",
       "      <td>transformers</td>\n",
       "      <td>121891</td>\n",
       "      <td>24181</td>\n",
       "      <td>434</td>\n",
       "      <td>1032</td>\n",
       "      <td>141</td>\n",
       "      <td>0 days, 8 hrs, 4 mins</td>\n",
       "      <td>1086</td>\n",
       "      <td>Apache License 2.0</td>\n",
       "      <td>🤗 Transformers: State-of-the-art Machine Learn...</td>\n",
       "      <td>Python, Cuda, Shell, C++, Dockerfile, C, Makef...</td>\n",
       "      <td>https://github.com/huggingface/transformers</td>\n",
       "    </tr>\n",
       "    <tr>\n",
       "      <th>1</th>\n",
       "      <td>ChatGPTNextWeb</td>\n",
       "      <td>ChatGPT-Next-Web</td>\n",
       "      <td>64022</td>\n",
       "      <td>52899</td>\n",
       "      <td>167</td>\n",
       "      <td>223</td>\n",
       "      <td>57</td>\n",
       "      <td>0 days, 11 hrs, 13 mins</td>\n",
       "      <td>382</td>\n",
       "      <td>MIT License</td>\n",
       "      <td>A cross-platform ChatGPT/Gemini UI (Web / PWA ...</td>\n",
       "      <td>TypeScript, SCSS, JavaScript, Shell, Dockerfil...</td>\n",
       "      <td>https://github.com/ChatGPTNextWeb/ChatGPT-Next...</td>\n",
       "    </tr>\n",
       "  </tbody>\n",
       "</table>\n",
       "</div>"
      ],
      "text/plain": [
       "            Owner   Repository Name   Stars  Forks  Contributors  Issues  \\\n",
       "0     huggingface      transformers  121891  24181           434    1032   \n",
       "1  ChatGPTNextWeb  ChatGPT-Next-Web   64022  52899           167     223   \n",
       "\n",
       "   Releases   Time Since Last Commit  Watchers             License  \\\n",
       "0       141    0 days, 8 hrs, 4 mins      1086  Apache License 2.0   \n",
       "1        57  0 days, 11 hrs, 13 mins       382         MIT License   \n",
       "\n",
       "                                               About  \\\n",
       "0  🤗 Transformers: State-of-the-art Machine Learn...   \n",
       "1  A cross-platform ChatGPT/Gemini UI (Web / PWA ...   \n",
       "\n",
       "                                           Languages  \\\n",
       "0  Python, Cuda, Shell, C++, Dockerfile, C, Makef...   \n",
       "1  TypeScript, SCSS, JavaScript, Shell, Dockerfil...   \n",
       "\n",
       "                                                 URL  \n",
       "0        https://github.com/huggingface/transformers  \n",
       "1  https://github.com/ChatGPTNextWeb/ChatGPT-Next...  "
      ]
     },
     "execution_count": 3,
     "metadata": {},
     "output_type": "execute_result"
    }
   ],
   "source": [
    "df = df_raw.copy()\n",
    "df.head(2)"
   ]
  },
  {
   "cell_type": "code",
   "execution_count": 4,
   "metadata": {},
   "outputs": [
    {
     "data": {
      "text/plain": [
       "['Owner',\n",
       " 'Repository Name',\n",
       " 'Stars',\n",
       " 'Forks',\n",
       " 'Contributors',\n",
       " 'Issues',\n",
       " 'Releases',\n",
       " 'Time Since Last Commit',\n",
       " 'Watchers',\n",
       " 'License',\n",
       " 'About',\n",
       " 'Languages',\n",
       " 'URL']"
      ]
     },
     "execution_count": 4,
     "metadata": {},
     "output_type": "execute_result"
    }
   ],
   "source": [
    "df.columns.tolist()"
   ]
  },
  {
   "cell_type": "code",
   "execution_count": 5,
   "metadata": {},
   "outputs": [],
   "source": [
    "df[\"Repo\"] = df.apply(\n",
    "    lambda row: f'[{row[\"Repository Name\"]}](https://github.com/{row[\"Owner\"]}/{row[\"Repository Name\"]})',\n",
    "    axis=1,\n",
    ")"
   ]
  },
  {
   "cell_type": "code",
   "execution_count": 6,
   "metadata": {},
   "outputs": [],
   "source": [
    "# Add column for index starting from 1\n",
    "df[\"#\"] = df.index + 1\n"
   ]
  },
  {
   "cell_type": "code",
   "execution_count": 7,
   "metadata": {},
   "outputs": [],
   "source": [
    "col_order = [\n",
    "    \"#\",\n",
    "    \"Repo\",\n",
    "    \"About\",\n",
    "    \"Stars\",\n",
    "    \"Forks\",\n",
    "    \"Issues\",\n",
    "    \"Contributors\",\n",
    "    \"Releases\",\n",
    "    \"Time Since Last Commit\",\n",
    "    \"License\",\n",
    "]"
   ]
  },
  {
   "cell_type": "code",
   "execution_count": 8,
   "metadata": {},
   "outputs": [],
   "source": [
    "df = df[col_order]"
   ]
  },
  {
   "cell_type": "code",
   "execution_count": 9,
   "metadata": {},
   "outputs": [],
   "source": [
    "# Add comma for every 3 digits for numerical columns\n",
    "for col in df.columns:\n",
    "    if pd.api.types.is_numeric_dtype(df[col]):\n",
    "        df[col] = df[col].apply(lambda x: \"{:,}\".format(x))"
   ]
  },
  {
   "cell_type": "code",
   "execution_count": 10,
   "metadata": {},
   "outputs": [
    {
     "data": {
      "text/html": [
       "<div>\n",
       "<style scoped>\n",
       "    .dataframe tbody tr th:only-of-type {\n",
       "        vertical-align: middle;\n",
       "    }\n",
       "\n",
       "    .dataframe tbody tr th {\n",
       "        vertical-align: top;\n",
       "    }\n",
       "\n",
       "    .dataframe thead th {\n",
       "        text-align: right;\n",
       "    }\n",
       "</style>\n",
       "<table border=\"1\" class=\"dataframe\">\n",
       "  <thead>\n",
       "    <tr style=\"text-align: right;\">\n",
       "      <th></th>\n",
       "      <th>#</th>\n",
       "      <th>Repo</th>\n",
       "      <th>About</th>\n",
       "      <th>Stars</th>\n",
       "      <th>Forks</th>\n",
       "      <th>Issues</th>\n",
       "      <th>Contributors</th>\n",
       "      <th>Releases</th>\n",
       "      <th>Time Since Last Commit</th>\n",
       "      <th>License</th>\n",
       "    </tr>\n",
       "  </thead>\n",
       "  <tbody>\n",
       "    <tr>\n",
       "      <th>0</th>\n",
       "      <td>1</td>\n",
       "      <td>[transformers](https://github.com/huggingface/...</td>\n",
       "      <td>🤗 Transformers: State-of-the-art Machine Learn...</td>\n",
       "      <td>121,891</td>\n",
       "      <td>24,181</td>\n",
       "      <td>1,032</td>\n",
       "      <td>434</td>\n",
       "      <td>141</td>\n",
       "      <td>0 days, 8 hrs, 4 mins</td>\n",
       "      <td>Apache License 2.0</td>\n",
       "    </tr>\n",
       "    <tr>\n",
       "      <th>1</th>\n",
       "      <td>2</td>\n",
       "      <td>[ChatGPT-Next-Web](https://github.com/ChatGPTN...</td>\n",
       "      <td>A cross-platform ChatGPT/Gemini UI (Web / PWA ...</td>\n",
       "      <td>64,022</td>\n",
       "      <td>52,899</td>\n",
       "      <td>223</td>\n",
       "      <td>167</td>\n",
       "      <td>57</td>\n",
       "      <td>0 days, 11 hrs, 13 mins</td>\n",
       "      <td>MIT License</td>\n",
       "    </tr>\n",
       "    <tr>\n",
       "      <th>2</th>\n",
       "      <td>3</td>\n",
       "      <td>[gpt4all](https://github.com/nomic-ai/gpt4all)</td>\n",
       "      <td>gpt4all: run open-source LLMs anywhere</td>\n",
       "      <td>62,317</td>\n",
       "      <td>6,832</td>\n",
       "      <td>364</td>\n",
       "      <td>88</td>\n",
       "      <td>10</td>\n",
       "      <td>0 days, 9 hrs, 34 mins</td>\n",
       "      <td>MIT License</td>\n",
       "    </tr>\n",
       "    <tr>\n",
       "      <th>3</th>\n",
       "      <td>4</td>\n",
       "      <td>[llama.cpp](https://github.com/ggerganov/llama...</td>\n",
       "      <td>LLM inference in C/C++</td>\n",
       "      <td>52,671</td>\n",
       "      <td>7,411</td>\n",
       "      <td>1,229</td>\n",
       "      <td>479</td>\n",
       "      <td>1,544</td>\n",
       "      <td>0 days, 8 hrs, 47 mins</td>\n",
       "      <td>MIT License</td>\n",
       "    </tr>\n",
       "    <tr>\n",
       "      <th>4</th>\n",
       "      <td>5</td>\n",
       "      <td>[privateGPT](https://github.com/imartinez/priv...</td>\n",
       "      <td>Interact with your documents using the power o...</td>\n",
       "      <td>48,358</td>\n",
       "      <td>6,351</td>\n",
       "      <td>142</td>\n",
       "      <td>62</td>\n",
       "      <td>6</td>\n",
       "      <td>0 days, 9 hrs, 7 mins</td>\n",
       "      <td>Apache License 2.0</td>\n",
       "    </tr>\n",
       "  </tbody>\n",
       "</table>\n",
       "</div>"
      ],
      "text/plain": [
       "   #                                               Repo  \\\n",
       "0  1  [transformers](https://github.com/huggingface/...   \n",
       "1  2  [ChatGPT-Next-Web](https://github.com/ChatGPTN...   \n",
       "2  3     [gpt4all](https://github.com/nomic-ai/gpt4all)   \n",
       "3  4  [llama.cpp](https://github.com/ggerganov/llama...   \n",
       "4  5  [privateGPT](https://github.com/imartinez/priv...   \n",
       "\n",
       "                                               About    Stars   Forks Issues  \\\n",
       "0  🤗 Transformers: State-of-the-art Machine Learn...  121,891  24,181  1,032   \n",
       "1  A cross-platform ChatGPT/Gemini UI (Web / PWA ...   64,022  52,899    223   \n",
       "2             gpt4all: run open-source LLMs anywhere   62,317   6,832    364   \n",
       "3                             LLM inference in C/C++   52,671   7,411  1,229   \n",
       "4  Interact with your documents using the power o...   48,358   6,351    142   \n",
       "\n",
       "  Contributors Releases   Time Since Last Commit             License  \n",
       "0          434      141    0 days, 8 hrs, 4 mins  Apache License 2.0  \n",
       "1          167       57  0 days, 11 hrs, 13 mins         MIT License  \n",
       "2           88       10   0 days, 9 hrs, 34 mins         MIT License  \n",
       "3          479    1,544   0 days, 8 hrs, 47 mins         MIT License  \n",
       "4           62        6    0 days, 9 hrs, 7 mins  Apache License 2.0  "
      ]
     },
     "execution_count": 10,
     "metadata": {},
     "output_type": "execute_result"
    }
   ],
   "source": [
    "df.head()"
   ]
  },
  {
   "cell_type": "code",
   "execution_count": 11,
   "metadata": {},
   "outputs": [],
   "source": [
    "markdown_table = tabulate(df, headers=\"keys\", tablefmt=\"github\", showindex=False)"
   ]
  },
  {
   "cell_type": "code",
   "execution_count": 12,
   "metadata": {},
   "outputs": [],
   "source": [
    "\n",
    "condensed_markdown_table = re.sub(r\" {3,}\", \"  \", markdown_table)\n",
    "condensed_markdown_table = re.sub(r\"-{4,}\", \"----------\", condensed_markdown_table)"
   ]
  },
  {
   "cell_type": "code",
   "execution_count": 13,
   "metadata": {},
   "outputs": [
    {
     "name": "stdout",
     "output_type": "stream",
     "text": [
      "|  # | Repo  | About  | Stars  | Forks  | Issues  |  Contributors | Releases  | Time Since Last Commit  | License  |\n",
      "|----------|----------|----------|----------|----------|----------|----------|----------|----------|----------|\n",
      "|  1 | [transformers](https://github.com/huggingface/transformers)  | 🤗 Transformers: State-of-the-art Machine Learning for Pytorch, TensorFlow, and JAX.  | 121,891 | 24,181  | 1,032  |  434 | 141  | 0 days, 8 hrs, 4 mins  | Apache License 2.0  |\n",
      "|  2 | [ChatGPT-Next-Web](https://github.com/ChatGPTNextWeb/ChatGPT-Next-Web)  | A cross-platform ChatGPT/Gemini UI (Web / PWA / Linux / Win / MacOS). 一键拥有你自己的跨平台 ChatGPT/Gemini 应用。  | 64,022  | 52,899  | 223  |  167 | 57  | 0 days, 11 hrs, 13 mins  | MIT License  |\n",
      "|  3 | [gpt4all](https://github.com/nomic-ai/gpt4all)  | gpt4all: run open-source LLMs anywhere  | 62,317  | 6,832  | 364  |  88 | 10  | 0 days, 9 hrs, 34 mins  | MIT License  |\n",
      "|  4 | [llama.cpp](https://github.com/ggerganov/llama.cpp)  | LLM inference in C/C++  | 52,671  | 7,411  | 1,229  |  479 | 1,544  | 0 days, 8 hrs, 47 mins  | MIT License  |\n",
      "|  5 | [privateGPT](https://github.com/imartinez/privateGPT)  | Interact with your documents using the power of GPT, 100% privately, no data leaks  | 48,358  | 6,351  | 142  |  62 | 6  | 0 days, 9 hrs, 7 mins  | Apache License 2.0  |\n",
      "|  6 | [ollama](https://github.com/ollama/ollama)  | Get up and running with Llama 2, Mistral, Gemma, and other large language models.  | 46,681  | 3,114  | 656  |  146 | 51  | 0 days, 9 hrs, 51 mins  | MIT License  |\n",
      "|  7 | [text-generation-webui](https://github.com/oobabooga/text-generation-webui) | A Gradio web UI for Large Language Models. Supports transformers, GPTQ, AWQ, EXL2, llama.cpp (GGUF), Llama models.  | 34,130  | 4,564  | 276  |  299 | 34  | 0 days, 14 hrs, 8 mins  | GNU Affero General Public License v3.0 |\n",
      "|  8 | [chatbot-ui](https://github.com/mckaywrigley/chatbot-ui)  | AI chat for every model.  | 25,201  | 6,829  | 62  |  31 | 0  | 0 days, 22 hrs, 47 mins  | MIT License  |\n",
      "|  9 | [lobe-chat](https://github.com/lobehub/lobe-chat)  | 🤯 Lobe Chat - an open-source, modern-design LLMs/AI chat framework. Supports Multi AI Providers( OpenAI / Claude 3 / Gemini / Perplexity / Bedrock / Azure / Mistral / Ollama ), Multi-Modals (Vision/TTS) and plugin system. One-click FREE deployment of your private ChatGPT chat application.  | 21,931  | 4,502  | 208  |  69 | 460  | 0 days, 8 hrs, 23 mins  | MIT License  |\n",
      "|  10 | [localGPT](https://github.com/PromtEngineer/localGPT)  | Chat with your documents on your local device using GPT models. No data leaves your device and 100% private.  | 18,739  | 2,062  | 444  |  42 | 0  | 7 days, 14 hrs, 4 mins  | Apache License 2.0  |\n",
      "|  11 | [chatbox](https://github.com/Bin-Huang/chatbox)  | Chatbox is a desktop client for ChatGPT, Claude and other LLMs, available on Windows, Mac, Linux  | 17,555  | 1,806  | 278  |  28 | 53  | 33 days, 4 hrs, 44 mins  | GNU General Public License v3.0  |\n",
      "|  12 | [LocalAI](https://github.com/mudler/LocalAI)  | :robot: The free, Open Source OpenAI alternative. Self-hosted, community-driven and local-first. Drop-in replacement for OpenAI running on consumer-grade hardware. No GPU required. Runs gguf, transformers, diffusers and many more models architectures. It allows to generate Text, Audio, Video, Images. Also with voice cloning capabilities. | 17,510  | 1,280  | 247  |  75 | 37  | 0 days, 8 hrs, 45 mins  | MIT License  |\n",
      "|  13 | [mlc-llm](https://github.com/mlc-ai/mlc-llm)  | Enable everyone to develop, optimize and deploy AI models natively on everyone's devices.  | 16,159  | 1,210  | 209  |  93 | 1  | 0 days, 13 hrs, 56 mins  | Apache License 2.0  |\n",
      "|  14 | [vllm](https://github.com/vllm-project/vllm)  | A high-throughput and memory-efficient inference and serving engine for LLMs  | 15,895  | 1,976  | 1,151  |  218 | 21  | 0 days, 8 hrs, 7 mins  | Apache License 2.0  |\n",
      "|  15 | [jan](https://github.com/janhq/jan)  | Jan is an open source alternative to ChatGPT that runs 100% offline on your computer  | 11,524  | 631  | 182  |  37 | 17  | 0 days, 8 hrs, 16 mins  | GNU Affero General Public License v3.0 |\n",
      "|  16 | [h2ogpt](https://github.com/h2oai/h2ogpt)  | Private chat with local GPT with document, images, video, etc. 100% private, Apache 2.0. Supports oLLaMa, Mixtral, llama.cpp, and more. Demo: https://gpt.h2o.ai/ https://codellama.h2o.ai/  | 10,022  | 1,114  | 224  |  65 | 127  | 0 days, 9 hrs, 29 mins  | Apache License 2.0  |\n",
      "|  17 | [llamafile](https://github.com/Mozilla-Ocho/llamafile)  | Distribute and run LLMs with a single file.  | 9,871  | 439  | 51  |  27 | 10  | 0 days, 18 hrs, 34 mins  | Other  |\n",
      "|  18 | [open-webui](https://github.com/open-webui/open-webui)  | User-friendly WebUI for LLMs (Formerly Ollama WebUI)  | 9,029  | 816  | 76  |  67 | 10  | 0 days, 8 hrs, 6 mins  | MIT License  |\n",
      "|  19 | [anything-llm](https://github.com/Mintplex-Labs/anything-llm)  | A multi-user ChatGPT for any LLMs and vector database. Unlimited documents, messages, and storage in one privacy-focused app. Now available as a desktop application!  | 8,925  | 953  | 76  |  32 | 0  | 0 days, 16 hrs, 58 mins  | MIT License  |\n",
      "|  20 | [LibreChat](https://github.com/danny-avila/LibreChat)  | Enhanced ChatGPT Clone: Features OpenAI, Assistants API, Azure, Groq, GPT-4 Vision, Mistral, Bing, Anthropic, OpenRouter, Google Gemini, AI model switching, message search, langchain, DALL-E-3, ChatGPT Plugins, OpenAI Functions, Secure Multi-User System, Presets, completely open-source for self-hosting. More features in development  | 8,526  | 1,527  | 74  |  84 | 36  | 0 days, 8 hrs, 42 mins  | MIT License  |\n",
      "|  21 | [openplayground](https://github.com/nat/openplayground)  | An LLM playground you can run on your laptop  | 6,018  | 454  | 76  |  16 | 0  | 39 days, 12 hrs, 42 mins  | MIT License  |\n",
      "|  22 | [llama-cpp-python](https://github.com/abetlen/llama-cpp-python)  | Python bindings for llama.cpp  | 5,877  | 697  | 303  |  119 | 106  | 1 days, 14 hrs, 32 mins  | MIT License  |\n",
      "|  23 | [TensorRT-LLM](https://github.com/NVIDIA/TensorRT-LLM)  | TensorRT-LLM provides users with an easy-to-use Python API to define Large Language Models (LLMs) and build TensorRT engines that contain state-of-the-art optimizations to perform inference efficiently on NVIDIA GPUs. TensorRT-LLM also contains components to create Python and C++ runtimes that execute those TensorRT engines.  | 5,826  | 554  | 520  |  10 | 4  | 0 days, 8 hrs, 1 mins  | Apache License 2.0  |\n",
      "|  24 | [chat-ui](https://github.com/huggingface/chat-ui)  | Open source codebase powering the HuggingChat app  | 5,541  | 725  | 173  |  55 | 5  | 0 days, 19 hrs, 2 mins  | Apache License 2.0  |\n",
      "|  25 | [SillyTavern](https://github.com/SillyTavern/SillyTavern)  | LLM Frontend for Power Users.  | 5,234  | 1,657  | 262  |  89 | 73  | 0 days, 18 hrs, 26 mins  | GNU Affero General Public License v3.0 |\n",
      "|  26 | [lollms-webui](https://github.com/ParisNeo/lollms-webui)  | Lord of Large Language Models Web User Interface  | 3,593  | 453  | 123  |  36 | 17  | 1 days, 10 hrs, 31 mins  | Apache License 2.0  |\n",
      "|  27 | [koboldcpp](https://github.com/LostRuins/koboldcpp)  | A simple one-file way to run various GGML and GGUF models with KoboldAI's UI  | 3,326  | 249  | 156  |  475 | 71  | 0 days, 10 hrs, 8 mins  | GNU Affero General Public License v3.0 |\n",
      "|  28 | [simpleaichat](https://github.com/minimaxir/simpleaichat)  | Python package for easily interfacing with chat apps, with robust features and minimal code complexity.  | 3,324  | 211  | 53  |  11 | 6  | 64 days, 13 hrs, 9 mins  | MIT License  |\n",
      "|  29 | [big-agi](https://github.com/enricoros/big-agi)  | 💬 Personal AI application powered by GPT-4 and beyond, with AI personas, AGI functions, text-to-image, voice, response streaming, code highlighting and execution, PDF import, presets for developers, much more. Deploy and gift #big-AGI-energy! Using Next.js, React, Joy.  | 3,050  | 765  | 111  |  32 | 13  | 0 days, 11 hrs, 18 mins  | MIT License  |\n",
      "|  30 | [exllamav2](https://github.com/turboderp/exllamav2)  | A fast inference library for running LLMs locally on modern consumer-class GPUs  | 2,620  | 190  | 101  |  28 | 14  | 0 days, 10 hrs, 4 mins  | MIT License  |\n",
      "|  31 | [llm](https://github.com/simonw/llm)  | Access large language models from the command-line  | 2,575  | 116  | 137  |  19 | 24  | 1 days, 7 hrs, 26 mins  | Apache License 2.0  |\n",
      "|  32 | [exllama](https://github.com/turboderp/exllama)  | A more memory-efficient rewrite of the HF transformers implementation of Llama for use with quantized weights.  | 2,513  | 203  | 65  |  16 | 0  | 163 days, 23 hrs, 10 mins | MIT License  |\n",
      "|  33 | [lmdeploy](https://github.com/InternLM/lmdeploy)  | LMDeploy is a toolkit for compressing, deploying, and serving LLMs.  | 1,964  | 175  | 90  |  42 | 23  | 0 days, 8 hrs, 2 mins  | Apache License 2.0  |\n",
      "|  34 | [ctransformers](https://github.com/marella/ctransformers)  | Python bindings for the Transformer models implemented in C/C++ using GGML library.  | 1,638  | 126  | 106  |  6 | 30  | 44 days, 10 hrs, 39 mins  | MIT License  |\n",
      "|  35 | [nitro](https://github.com/janhq/nitro)  | An inference server on top of llama.cpp. OpenAI-compatible API, queue, & scaling. Embed a prod-ready, local inference engine in your apps. Powers Jan  | 1,326  | 60  | 29  |  18 | 63  | 5 days, 7 hrs, 43 mins  | GNU Affero General Public License v3.0 |\n",
      "|  36 | [llama2.rs](https://github.com/srush/llama2.rs)  | A fast llama2 decoder in pure Rust.  | 936  | 46  | 13  |  4 | 0  | 103 days, 18 hrs, 16 mins | MIT License  |\n",
      "|  37 | [chatbot-ollama](https://github.com/ivanfioravanti/chatbot-ollama)  | Chatbot Ollama is an open source chat UI for Ollama.  | 842  | 121  | 17  |  6 | 1  | 18 days, 17 hrs, 57 mins  | Other  |\n",
      "|  38 | [LLMFarm](https://github.com/guinmoon/LLMFarm)  | llama and other  large language models on iOS and MacOS offline using GGML library.  | 758  | 43  | 16  |  1 | 22  | 2 days, 2 hrs, 36 mins  | MIT License  |\n",
      "|  39 | [maid](https://github.com/Mobile-Artificial-Intelligence/maid)  | Maid is a cross-platform Flutter app for interfacing with GGUF / llama.cpp models locally, and with Ollama and OpenAI models remotely.  | 463  | 53  | 7  |  10 | 22  | 0 days, 17 hrs, 25 mins  | MIT License  |\n",
      "|  40 | [oterm](https://github.com/ggozad/oterm)  | a text-based terminal client for Ollama  | 438  | 23  | 3  |  6 | 12  | 11 days, 20 hrs, 58 mins  | MIT License  |\n",
      "|  41 | [amica](https://github.com/semperai/amica)  | Amica is an open source interface for interactive communication with 3D characters with voice synthesis and speech recognition.  | 423  | 63  | 44  |  12 | 4  | 8 days, 22 hrs, 55 mins  | MIT License  |\n",
      "|  42 | [catai](https://github.com/withcatai/catai)  | UI for 🦙model . Run AI assistant locally ✨  | 392  | 26  | 1  |  4 | 22  | 45 days, 22 hrs, 50 mins  | MIT License  |\n",
      "|  43 | [FreeChat](https://github.com/psugihara/FreeChat)  | llama.cpp based AI chat app for macOS  | 326  | 24  | 18  |  4 | 0  | 1 days, 21 hrs, 38 mins  | MIT License  |\n",
      "|  44 | [exui](https://github.com/turboderp/exui)  | Web UI for ExLlamaV2  | 298  | 22  | 13  |  7 | 0  | 3 days, 21 hrs, 18 mins  | MIT License  |\n",
      "|  45 | [ava](https://github.com/cztomsik/ava)  | All-in-one desktop app for running LLMs locally.  | 266  | 10  | 9  |  2 | 0  | 13 days, 23 hrs, 37 mins  | Other  |\n",
      "|  46 | [LocalAIVoiceChat](https://github.com/KoljaB/LocalAIVoiceChat)  | Local AI talk with a custom voice based on Zephyr 7B model. Uses RealtimeSTT with faster_whisper for transcription and RealtimeTTS with Coqui XTTS for synthesis.  | 243  | 21  | 5  |  1 | 1  | 98 days, 20 hrs, 13 mins  | Other  |\n",
      "|  47 | [tenere](https://github.com/pythops/tenere)  | 🔥 TUI interface for LLMs written in Rust  | 171  | 6  | 1  |  4 | 11  | 34 days, 3 hrs, 0 mins  | GNU General Public License v3.0  |\n",
      "|  48 | [emeltal](https://github.com/ptsochantaris/emeltal)  | Local ML voice chat using high-end models.  | 100  | 6  | 0  |  1 | 0  | 0 days, 18 hrs, 18 mins  | MIT License  |\n",
      "|  49 | [mikupad](https://github.com/lmg-anon/mikupad)  | LLM Frontend in a single html file  | 84  | 14  | 16  |  6 | 0  | 21 days, 19 hrs, 4 mins  | Creative Commons Zero v1.0 Universal  |\n",
      "|  50 | [neurochat](https://github.com/ortegaalfredo/neurochat)  | Native gui to serveral AI services plus llama.cpp local AIs.  | 70  | 6  | 1  |  1 | 6  | 58 days, 0 hrs, 56 mins  | BSD 2-Clause \"Simplified\" License  |\n",
      "|  51 | [lite.koboldai.net](https://github.com/LostRuins/lite.koboldai.net)  | A zero dependency web UI for KoboldAI Horde  | 45  | 23  | 6  |  14 | 0  | 1 days, 3 hrs, 58 mins  | GNU Affero General Public License v3.0 |\n",
      "|  52 | [local-chat](https://github.com/nathanlesage/local-chat)  | LocalChat is a ChatGPT-like chat that runs on your computer  | 42  | 1  | 3  |  1 | 11  | 5 days, 4 hrs, 38 mins  | GNU General Public License v3.0  |\n"
     ]
    }
   ],
   "source": [
    "print(condensed_markdown_table)"
   ]
  },
  {
   "cell_type": "code",
   "execution_count": 14,
   "metadata": {},
   "outputs": [],
   "source": [
    "# Save markdown_table to file\n",
    "with open(\"outputs/2024-03-12_1817_repo_stats.md\", \"w\") as f:\n",
    "    f.write(condensed_markdown_table)"
   ]
  }
 ],
 "metadata": {
  "kernelspec": {
   "display_name": ".venv",
   "language": "python",
   "name": "python3"
  },
  "language_info": {
   "codemirror_mode": {
    "name": "ipython",
    "version": 3
   },
   "file_extension": ".py",
   "mimetype": "text/x-python",
   "name": "python",
   "nbconvert_exporter": "python",
   "pygments_lexer": "ipython3",
   "version": "3.10.3"
  }
 },
 "nbformat": 4,
 "nbformat_minor": 2
}
